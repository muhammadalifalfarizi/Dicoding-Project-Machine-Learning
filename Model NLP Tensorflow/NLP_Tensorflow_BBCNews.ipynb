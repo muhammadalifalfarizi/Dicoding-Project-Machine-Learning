{
  "nbformat": 4,
  "nbformat_minor": 0,
  "metadata": {
    "colab": {
      "provenance": []
    },
    "kernelspec": {
      "name": "python3",
      "display_name": "Python 3"
    },
    "language_info": {
      "name": "python"
    },
    "accelerator": "GPU",
    "gpuClass": "standard"
  },
  "cells": [
    {
      "cell_type": "markdown",
      "source": [
        "# **MUHAMMAD ALIF ALFARIZI**\n",
        "\n",
        "#### **1494037162101-564**"
      ],
      "metadata": {
        "id": "cODivdDWWw-_"
      }
    },
    {
      "cell_type": "markdown",
      "source": [
        "Importing all necessary library"
      ],
      "metadata": {
        "id": "12-jgAxxX0cU"
      }
    },
    {
      "cell_type": "code",
      "execution_count": null,
      "metadata": {
        "colab": {
          "base_uri": "https://localhost:8080/",
          "height": 641
        },
        "id": "Tz6G7153KofT",
        "outputId": "b3123f2b-d12c-4cd6-8a0d-4e0a30b39f9a"
      },
      "outputs": [
        {
          "output_type": "execute_result",
          "data": {
            "text/plain": [
              "      category filename                              title  \\\n",
              "0     business  001.txt  Ad sales boost Time Warner profit   \n",
              "1     business  002.txt   Dollar gains on Greenspan speech   \n",
              "2     business  003.txt  Yukos unit buyer faces loan claim   \n",
              "3     business  004.txt  High fuel prices hit BA's profits   \n",
              "4     business  005.txt  Pernod takeover talk lifts Domecq   \n",
              "...        ...      ...                                ...   \n",
              "2220      tech  397.txt   BT program to beat dialler scams   \n",
              "2221      tech  398.txt    Spam e-mails tempt net shoppers   \n",
              "2222      tech  399.txt            Be careful how you code   \n",
              "2223      tech  400.txt    US cyber security chief resigns   \n",
              "2224      tech  401.txt   Losing yourself in online gaming   \n",
              "\n",
              "                                                content  \n",
              "0      Quarterly profits at US media giant TimeWarne...  \n",
              "1      The dollar has hit its highest level against ...  \n",
              "2      The owners of embattled Russian oil giant Yuk...  \n",
              "3      British Airways has blamed high fuel prices f...  \n",
              "4      Shares in UK drinks and food firm Allied Dome...  \n",
              "...                                                 ...  \n",
              "2220   BT is introducing two initiatives to help bea...  \n",
              "2221   Computer users across the world continue to i...  \n",
              "2222   A new European directive could put software w...  \n",
              "2223   The man making sure US computer networks are ...  \n",
              "2224   Online role playing games are time-consuming,...  \n",
              "\n",
              "[2225 rows x 4 columns]"
            ],
            "text/html": [
              "\n",
              "  <div id=\"df-3acd5776-124d-4c5a-a0b7-9c746562af24\">\n",
              "    <div class=\"colab-df-container\">\n",
              "      <div>\n",
              "<style scoped>\n",
              "    .dataframe tbody tr th:only-of-type {\n",
              "        vertical-align: middle;\n",
              "    }\n",
              "\n",
              "    .dataframe tbody tr th {\n",
              "        vertical-align: top;\n",
              "    }\n",
              "\n",
              "    .dataframe thead th {\n",
              "        text-align: right;\n",
              "    }\n",
              "</style>\n",
              "<table border=\"1\" class=\"dataframe\">\n",
              "  <thead>\n",
              "    <tr style=\"text-align: right;\">\n",
              "      <th></th>\n",
              "      <th>category</th>\n",
              "      <th>filename</th>\n",
              "      <th>title</th>\n",
              "      <th>content</th>\n",
              "    </tr>\n",
              "  </thead>\n",
              "  <tbody>\n",
              "    <tr>\n",
              "      <th>0</th>\n",
              "      <td>business</td>\n",
              "      <td>001.txt</td>\n",
              "      <td>Ad sales boost Time Warner profit</td>\n",
              "      <td>Quarterly profits at US media giant TimeWarne...</td>\n",
              "    </tr>\n",
              "    <tr>\n",
              "      <th>1</th>\n",
              "      <td>business</td>\n",
              "      <td>002.txt</td>\n",
              "      <td>Dollar gains on Greenspan speech</td>\n",
              "      <td>The dollar has hit its highest level against ...</td>\n",
              "    </tr>\n",
              "    <tr>\n",
              "      <th>2</th>\n",
              "      <td>business</td>\n",
              "      <td>003.txt</td>\n",
              "      <td>Yukos unit buyer faces loan claim</td>\n",
              "      <td>The owners of embattled Russian oil giant Yuk...</td>\n",
              "    </tr>\n",
              "    <tr>\n",
              "      <th>3</th>\n",
              "      <td>business</td>\n",
              "      <td>004.txt</td>\n",
              "      <td>High fuel prices hit BA's profits</td>\n",
              "      <td>British Airways has blamed high fuel prices f...</td>\n",
              "    </tr>\n",
              "    <tr>\n",
              "      <th>4</th>\n",
              "      <td>business</td>\n",
              "      <td>005.txt</td>\n",
              "      <td>Pernod takeover talk lifts Domecq</td>\n",
              "      <td>Shares in UK drinks and food firm Allied Dome...</td>\n",
              "    </tr>\n",
              "    <tr>\n",
              "      <th>...</th>\n",
              "      <td>...</td>\n",
              "      <td>...</td>\n",
              "      <td>...</td>\n",
              "      <td>...</td>\n",
              "    </tr>\n",
              "    <tr>\n",
              "      <th>2220</th>\n",
              "      <td>tech</td>\n",
              "      <td>397.txt</td>\n",
              "      <td>BT program to beat dialler scams</td>\n",
              "      <td>BT is introducing two initiatives to help bea...</td>\n",
              "    </tr>\n",
              "    <tr>\n",
              "      <th>2221</th>\n",
              "      <td>tech</td>\n",
              "      <td>398.txt</td>\n",
              "      <td>Spam e-mails tempt net shoppers</td>\n",
              "      <td>Computer users across the world continue to i...</td>\n",
              "    </tr>\n",
              "    <tr>\n",
              "      <th>2222</th>\n",
              "      <td>tech</td>\n",
              "      <td>399.txt</td>\n",
              "      <td>Be careful how you code</td>\n",
              "      <td>A new European directive could put software w...</td>\n",
              "    </tr>\n",
              "    <tr>\n",
              "      <th>2223</th>\n",
              "      <td>tech</td>\n",
              "      <td>400.txt</td>\n",
              "      <td>US cyber security chief resigns</td>\n",
              "      <td>The man making sure US computer networks are ...</td>\n",
              "    </tr>\n",
              "    <tr>\n",
              "      <th>2224</th>\n",
              "      <td>tech</td>\n",
              "      <td>401.txt</td>\n",
              "      <td>Losing yourself in online gaming</td>\n",
              "      <td>Online role playing games are time-consuming,...</td>\n",
              "    </tr>\n",
              "  </tbody>\n",
              "</table>\n",
              "<p>2225 rows × 4 columns</p>\n",
              "</div>\n",
              "      <button class=\"colab-df-convert\" onclick=\"convertToInteractive('df-3acd5776-124d-4c5a-a0b7-9c746562af24')\"\n",
              "              title=\"Convert this dataframe to an interactive table.\"\n",
              "              style=\"display:none;\">\n",
              "        \n",
              "  <svg xmlns=\"http://www.w3.org/2000/svg\" height=\"24px\"viewBox=\"0 0 24 24\"\n",
              "       width=\"24px\">\n",
              "    <path d=\"M0 0h24v24H0V0z\" fill=\"none\"/>\n",
              "    <path d=\"M18.56 5.44l.94 2.06.94-2.06 2.06-.94-2.06-.94-.94-2.06-.94 2.06-2.06.94zm-11 1L8.5 8.5l.94-2.06 2.06-.94-2.06-.94L8.5 2.5l-.94 2.06-2.06.94zm10 10l.94 2.06.94-2.06 2.06-.94-2.06-.94-.94-2.06-.94 2.06-2.06.94z\"/><path d=\"M17.41 7.96l-1.37-1.37c-.4-.4-.92-.59-1.43-.59-.52 0-1.04.2-1.43.59L10.3 9.45l-7.72 7.72c-.78.78-.78 2.05 0 2.83L4 21.41c.39.39.9.59 1.41.59.51 0 1.02-.2 1.41-.59l7.78-7.78 2.81-2.81c.8-.78.8-2.07 0-2.86zM5.41 20L4 18.59l7.72-7.72 1.47 1.35L5.41 20z\"/>\n",
              "  </svg>\n",
              "      </button>\n",
              "      \n",
              "  <style>\n",
              "    .colab-df-container {\n",
              "      display:flex;\n",
              "      flex-wrap:wrap;\n",
              "      gap: 12px;\n",
              "    }\n",
              "\n",
              "    .colab-df-convert {\n",
              "      background-color: #E8F0FE;\n",
              "      border: none;\n",
              "      border-radius: 50%;\n",
              "      cursor: pointer;\n",
              "      display: none;\n",
              "      fill: #1967D2;\n",
              "      height: 32px;\n",
              "      padding: 0 0 0 0;\n",
              "      width: 32px;\n",
              "    }\n",
              "\n",
              "    .colab-df-convert:hover {\n",
              "      background-color: #E2EBFA;\n",
              "      box-shadow: 0px 1px 2px rgba(60, 64, 67, 0.3), 0px 1px 3px 1px rgba(60, 64, 67, 0.15);\n",
              "      fill: #174EA6;\n",
              "    }\n",
              "\n",
              "    [theme=dark] .colab-df-convert {\n",
              "      background-color: #3B4455;\n",
              "      fill: #D2E3FC;\n",
              "    }\n",
              "\n",
              "    [theme=dark] .colab-df-convert:hover {\n",
              "      background-color: #434B5C;\n",
              "      box-shadow: 0px 1px 3px 1px rgba(0, 0, 0, 0.15);\n",
              "      filter: drop-shadow(0px 1px 2px rgba(0, 0, 0, 0.3));\n",
              "      fill: #FFFFFF;\n",
              "    }\n",
              "  </style>\n",
              "\n",
              "      <script>\n",
              "        const buttonEl =\n",
              "          document.querySelector('#df-3acd5776-124d-4c5a-a0b7-9c746562af24 button.colab-df-convert');\n",
              "        buttonEl.style.display =\n",
              "          google.colab.kernel.accessAllowed ? 'block' : 'none';\n",
              "\n",
              "        async function convertToInteractive(key) {\n",
              "          const element = document.querySelector('#df-3acd5776-124d-4c5a-a0b7-9c746562af24');\n",
              "          const dataTable =\n",
              "            await google.colab.kernel.invokeFunction('convertToInteractive',\n",
              "                                                     [key], {});\n",
              "          if (!dataTable) return;\n",
              "\n",
              "          const docLinkHtml = 'Like what you see? Visit the ' +\n",
              "            '<a target=\"_blank\" href=https://colab.research.google.com/notebooks/data_table.ipynb>data table notebook</a>'\n",
              "            + ' to learn more about interactive tables.';\n",
              "          element.innerHTML = '';\n",
              "          dataTable['output_type'] = 'display_data';\n",
              "          await google.colab.output.renderOutput(dataTable, element);\n",
              "          const docLink = document.createElement('div');\n",
              "          docLink.innerHTML = docLinkHtml;\n",
              "          element.appendChild(docLink);\n",
              "        }\n",
              "      </script>\n",
              "    </div>\n",
              "  </div>\n",
              "  "
            ]
          },
          "metadata": {},
          "execution_count": 10
        }
      ],
      "source": [
        "import pandas as pd\n",
        "df = pd.read_csv('bbc-news-data.csv', sep='\\t')\n",
        "df"
      ]
    },
    {
      "cell_type": "markdown",
      "source": [
        "Cleaning the dataset"
      ],
      "metadata": {
        "id": "i3q7MCt-W_ET"
      }
    },
    {
      "cell_type": "code",
      "source": [
        "df.drop(['filename', 'title'], axis=1, inplace=True)\n",
        "df.info()"
      ],
      "metadata": {
        "colab": {
          "base_uri": "https://localhost:8080/"
        },
        "id": "FjdtEBy3LuMb",
        "outputId": "a81ddce9-7856-4c28-c447-d3603524d8d0"
      },
      "execution_count": null,
      "outputs": [
        {
          "output_type": "stream",
          "name": "stdout",
          "text": [
            "<class 'pandas.core.frame.DataFrame'>\n",
            "RangeIndex: 2225 entries, 0 to 2224\n",
            "Data columns (total 2 columns):\n",
            " #   Column    Non-Null Count  Dtype \n",
            "---  ------    --------------  ----- \n",
            " 0   category  2225 non-null   object\n",
            " 1   content   2225 non-null   object\n",
            "dtypes: object(2)\n",
            "memory usage: 34.9+ KB\n"
          ]
        }
      ]
    },
    {
      "cell_type": "markdown",
      "source": [
        "Handling categorical data"
      ],
      "metadata": {
        "id": "-3kpoWsMXWib"
      }
    },
    {
      "cell_type": "code",
      "source": [
        "category = pd.get_dummies(df.category)\n",
        "df_baru = pd.concat([df, category], axis=1)\n",
        "df_baru = df_baru.drop(columns=['category'])"
      ],
      "metadata": {
        "id": "12YZj1JEMFbL"
      },
      "execution_count": null,
      "outputs": []
    },
    {
      "cell_type": "code",
      "source": [
        "df_baru.info()"
      ],
      "metadata": {
        "colab": {
          "base_uri": "https://localhost:8080/"
        },
        "id": "YkWgifSQMYSi",
        "outputId": "afd47cd5-fe69-479e-dcc3-f69ec26ec465"
      },
      "execution_count": null,
      "outputs": [
        {
          "output_type": "stream",
          "name": "stdout",
          "text": [
            "<class 'pandas.core.frame.DataFrame'>\n",
            "RangeIndex: 2225 entries, 0 to 2224\n",
            "Data columns (total 6 columns):\n",
            " #   Column         Non-Null Count  Dtype \n",
            "---  ------         --------------  ----- \n",
            " 0   content        2225 non-null   object\n",
            " 1   business       2225 non-null   uint8 \n",
            " 2   entertainment  2225 non-null   uint8 \n",
            " 3   politics       2225 non-null   uint8 \n",
            " 4   sport          2225 non-null   uint8 \n",
            " 5   tech           2225 non-null   uint8 \n",
            "dtypes: object(1), uint8(5)\n",
            "memory usage: 28.4+ KB\n"
          ]
        }
      ]
    },
    {
      "cell_type": "markdown",
      "source": [
        "Splitting the dataset and preparing text data"
      ],
      "metadata": {
        "id": "XgrrHnTFXm-d"
      }
    },
    {
      "cell_type": "code",
      "source": [
        "contents = df_baru['content'].values\n",
        "label = df_baru[['business', 'entertainment', 'politics', \n",
        "                 'sport', 'tech']].values\n",
        "label"
      ],
      "metadata": {
        "colab": {
          "base_uri": "https://localhost:8080/"
        },
        "id": "i8vBgbExOAgi",
        "outputId": "9978f544-7320-4357-883f-8e114a44f24b"
      },
      "execution_count": null,
      "outputs": [
        {
          "output_type": "execute_result",
          "data": {
            "text/plain": [
              "array([[1, 0, 0, 0, 0],\n",
              "       [1, 0, 0, 0, 0],\n",
              "       [1, 0, 0, 0, 0],\n",
              "       ...,\n",
              "       [0, 0, 0, 0, 1],\n",
              "       [0, 0, 0, 0, 1],\n",
              "       [0, 0, 0, 0, 1]], dtype=uint8)"
            ]
          },
          "metadata": {},
          "execution_count": 15
        }
      ]
    },
    {
      "cell_type": "markdown",
      "source": [
        "Train the Model and use the Tokenizer function"
      ],
      "metadata": {
        "id": "4FYCPYdOWZ2g"
      }
    },
    {
      "cell_type": "code",
      "source": [
        "from sklearn.model_selection import train_test_split\n",
        "from tensorflow.keras.preprocessing.text import Tokenizer\n",
        "from tensorflow.keras.preprocessing.sequence import pad_sequences\n",
        "\n",
        "contents_latih, contents_test, label_latih, label_test = train_test_split(contents, label, test_size=0.2)\n",
        "\n",
        "tokenizer = Tokenizer(num_words=10000, oov_token='x')\n",
        "tokenizer.fit_on_texts(contents_latih)\n",
        "tokenizer.fit_on_texts(contents_test)\n",
        "\n",
        "sequence_latih = tokenizer.texts_to_sequences(contents_latih)\n",
        "sequence_test = tokenizer.texts_to_sequences(contents_test)\n",
        "\n",
        "padded_latih = pad_sequences(sequence_latih)\n",
        "padded_test = pad_sequences(sequence_test)"
      ],
      "metadata": {
        "id": "5wNlM7E9OX-_"
      },
      "execution_count": null,
      "outputs": []
    },
    {
      "cell_type": "markdown",
      "source": [
        "Implementing Sequential Model, Embedding, and LSTM in the model architecture along with Dropout and Regularizers to avoid Overfitting"
      ],
      "metadata": {
        "id": "rzDb_y3EV97Q"
      }
    },
    {
      "cell_type": "code",
      "source": [
        "import tensorflow as tf\n",
        "from tensorflow import keras\n",
        "from keras import regularizers\n",
        "from tensorflow.keras import layers\n",
        "\n",
        "model = tf.keras.Sequential([\n",
        "    tf.keras.layers.Embedding(input_dim=10000, output_dim=32),\n",
        "    tf.keras.layers.LSTM(64),\n",
        "    tf.keras.layers.Dense(128, activation='relu', kernel_regularizer=regularizers.l2(0.01)),\n",
        "    tf.keras.layers.Dropout(0.5),\n",
        "    tf.keras.layers.Dense(64, activation='relu', kernel_regularizer=regularizers.l2(0.01)),\n",
        "    tf.keras.layers.Dropout(0.2),\n",
        "    tf.keras.layers.Dense(5, activation='softmax')\n",
        "])\n",
        "opt = keras.optimizers.Adam(learning_rate=0.01)\n",
        "model.compile(loss='categorical_crossentropy', optimizer=opt, metrics=['accuracy'])"
      ],
      "metadata": {
        "id": "jIaZmojAPTFj"
      },
      "execution_count": null,
      "outputs": []
    },
    {
      "cell_type": "markdown",
      "source": [
        "Implementing Callbacks on Epochs"
      ],
      "metadata": {
        "id": "G8NMTck4Vxnw"
      }
    },
    {
      "cell_type": "code",
      "source": [
        "class myCallback(tf.keras.callbacks.Callback):\n",
        "  def on_epoch_end(self, epoch, logs={}):\n",
        "    if(logs.get('accuracy')>0.9 and logs.get('val_accuracy')>0.8):\n",
        "      print('\\nAkurasi telah mencapai target')\n",
        "      self.model.stop_training = True\n",
        "callbacks = myCallback()"
      ],
      "metadata": {
        "id": "DvOo3ksTQWa-"
      },
      "execution_count": null,
      "outputs": []
    },
    {
      "cell_type": "code",
      "source": [
        "num_epochs = 30\n",
        "history = model.fit(padded_latih, label_latih, batch_size=64, epochs=num_epochs,\n",
        "                    validation_data=(padded_test, label_test), verbose=2)"
      ],
      "metadata": {
        "colab": {
          "base_uri": "https://localhost:8080/"
        },
        "id": "SsOPHN-BQ0qV",
        "outputId": "1d4459c0-a846-4722-9444-91b6b542c26d"
      },
      "execution_count": null,
      "outputs": [
        {
          "output_type": "stream",
          "name": "stdout",
          "text": [
            "Epoch 1/30\n",
            "28/28 - 11s - loss: 1.9211 - accuracy: 0.2674 - val_loss: 1.4435 - val_accuracy: 0.3708 - 11s/epoch - 397ms/step\n",
            "Epoch 2/30\n",
            "28/28 - 3s - loss: 1.3590 - accuracy: 0.3978 - val_loss: 1.6995 - val_accuracy: 0.3708 - 3s/epoch - 115ms/step\n",
            "Epoch 3/30\n",
            "28/28 - 3s - loss: 1.2532 - accuracy: 0.4348 - val_loss: 1.3081 - val_accuracy: 0.4045 - 3s/epoch - 115ms/step\n",
            "Epoch 4/30\n",
            "28/28 - 3s - loss: 1.1326 - accuracy: 0.4725 - val_loss: 1.2883 - val_accuracy: 0.4539 - 3s/epoch - 115ms/step\n",
            "Epoch 5/30\n",
            "28/28 - 3s - loss: 1.0396 - accuracy: 0.5449 - val_loss: 1.3681 - val_accuracy: 0.4045 - 3s/epoch - 117ms/step\n",
            "Epoch 6/30\n",
            "28/28 - 3s - loss: 0.8810 - accuracy: 0.6112 - val_loss: 1.2177 - val_accuracy: 0.4989 - 3s/epoch - 116ms/step\n",
            "Epoch 7/30\n",
            "28/28 - 3s - loss: 0.8122 - accuracy: 0.6371 - val_loss: 1.2036 - val_accuracy: 0.5348 - 3s/epoch - 116ms/step\n",
            "Epoch 8/30\n",
            "28/28 - 3s - loss: 0.7219 - accuracy: 0.6820 - val_loss: 1.5635 - val_accuracy: 0.4719 - 3s/epoch - 114ms/step\n",
            "Epoch 9/30\n",
            "28/28 - 3s - loss: 0.6265 - accuracy: 0.7539 - val_loss: 1.6127 - val_accuracy: 0.5483 - 3s/epoch - 115ms/step\n",
            "Epoch 10/30\n",
            "28/28 - 3s - loss: 0.5511 - accuracy: 0.7747 - val_loss: 1.8700 - val_accuracy: 0.5056 - 3s/epoch - 117ms/step\n",
            "Epoch 11/30\n",
            "28/28 - 3s - loss: 0.5075 - accuracy: 0.7983 - val_loss: 1.4117 - val_accuracy: 0.6067 - 3s/epoch - 117ms/step\n",
            "Epoch 12/30\n",
            "28/28 - 3s - loss: 0.4628 - accuracy: 0.8090 - val_loss: 1.5238 - val_accuracy: 0.6067 - 3s/epoch - 117ms/step\n",
            "Epoch 13/30\n",
            "28/28 - 3s - loss: 0.4532 - accuracy: 0.8135 - val_loss: 1.3672 - val_accuracy: 0.5978 - 3s/epoch - 117ms/step\n",
            "Epoch 14/30\n",
            "28/28 - 3s - loss: 0.4220 - accuracy: 0.8331 - val_loss: 1.2131 - val_accuracy: 0.6539 - 3s/epoch - 116ms/step\n",
            "Epoch 15/30\n",
            "28/28 - 3s - loss: 0.4445 - accuracy: 0.8742 - val_loss: 1.4504 - val_accuracy: 0.7011 - 3s/epoch - 118ms/step\n",
            "Epoch 16/30\n",
            "28/28 - 4s - loss: 0.3847 - accuracy: 0.9320 - val_loss: 1.5549 - val_accuracy: 0.6989 - 4s/epoch - 146ms/step\n",
            "Epoch 17/30\n",
            "28/28 - 3s - loss: 0.2953 - accuracy: 0.9500 - val_loss: 1.4793 - val_accuracy: 0.7573 - 3s/epoch - 120ms/step\n",
            "Epoch 18/30\n",
            "28/28 - 3s - loss: 0.2331 - accuracy: 0.9725 - val_loss: 1.5634 - val_accuracy: 0.7146 - 3s/epoch - 116ms/step\n",
            "Epoch 19/30\n",
            "28/28 - 3s - loss: 0.2119 - accuracy: 0.9770 - val_loss: 1.8603 - val_accuracy: 0.6876 - 3s/epoch - 115ms/step\n",
            "Epoch 20/30\n",
            "28/28 - 3s - loss: 0.1977 - accuracy: 0.9826 - val_loss: 1.4076 - val_accuracy: 0.7708 - 3s/epoch - 116ms/step\n",
            "Epoch 21/30\n",
            "28/28 - 3s - loss: 0.2711 - accuracy: 0.9506 - val_loss: 1.9719 - val_accuracy: 0.6899 - 3s/epoch - 113ms/step\n",
            "Epoch 22/30\n",
            "28/28 - 3s - loss: 0.2866 - accuracy: 0.9663 - val_loss: 1.6238 - val_accuracy: 0.7865 - 3s/epoch - 114ms/step\n",
            "Epoch 23/30\n",
            "28/28 - 3s - loss: 0.2062 - accuracy: 0.9848 - val_loss: 1.3600 - val_accuracy: 0.7933 - 3s/epoch - 115ms/step\n",
            "Epoch 24/30\n",
            "28/28 - 3s - loss: 0.1473 - accuracy: 0.9910 - val_loss: 1.3226 - val_accuracy: 0.7933 - 3s/epoch - 114ms/step\n",
            "Epoch 25/30\n",
            "28/28 - 3s - loss: 0.1302 - accuracy: 0.9893 - val_loss: 1.1753 - val_accuracy: 0.8112 - 3s/epoch - 114ms/step\n",
            "Epoch 26/30\n",
            "28/28 - 3s - loss: 0.1250 - accuracy: 0.9933 - val_loss: 1.2269 - val_accuracy: 0.8315 - 3s/epoch - 123ms/step\n",
            "Epoch 27/30\n",
            "28/28 - 3s - loss: 0.1205 - accuracy: 0.9921 - val_loss: 1.3169 - val_accuracy: 0.8292 - 3s/epoch - 116ms/step\n",
            "Epoch 28/30\n",
            "28/28 - 3s - loss: 0.1121 - accuracy: 0.9938 - val_loss: 1.1568 - val_accuracy: 0.8427 - 3s/epoch - 115ms/step\n",
            "Epoch 29/30\n",
            "28/28 - 3s - loss: 0.1110 - accuracy: 0.9927 - val_loss: 1.1051 - val_accuracy: 0.8337 - 3s/epoch - 115ms/step\n",
            "Epoch 30/30\n",
            "28/28 - 3s - loss: 0.1004 - accuracy: 0.9927 - val_loss: 1.2208 - val_accuracy: 0.8517 - 3s/epoch - 114ms/step\n"
          ]
        }
      ]
    },
    {
      "cell_type": "markdown",
      "source": [
        "Visualize the model performance"
      ],
      "metadata": {
        "id": "VsbpNoRwVlZA"
      }
    },
    {
      "cell_type": "code",
      "source": [
        "import matplotlib.pyplot as plt"
      ],
      "metadata": {
        "id": "9R8DkFNSRkqA"
      },
      "execution_count": null,
      "outputs": []
    },
    {
      "cell_type": "code",
      "source": [
        "plt.title('Model Loss')\n",
        "plt.plot(history.history['loss'], label='Training')\n",
        "plt.plot(history.history['val_loss'], label='Validation')\n",
        "plt.ylabel('Loss')\n",
        "plt.xlabel('Epoch')\n",
        "plt.legend(loc='best')\n",
        "plt.show()"
      ],
      "metadata": {
        "colab": {
          "base_uri": "https://localhost:8080/",
          "height": 295
        },
        "id": "pmDMW4f5Rw3E",
        "outputId": "3424ac97-2516-42d5-90c3-5c329df831d2"
      },
      "execution_count": null,
      "outputs": [
        {
          "output_type": "display_data",
          "data": {
            "text/plain": [
              "<Figure size 432x288 with 1 Axes>"
            ],
            "image/png": "[encoded data removed]"
          },
          "metadata": {
            "needs_background": "light"
          }
        }
      ]
    },
    {
      "cell_type": "code",
      "source": [
        "plt.title('Model Accuracy')\n",
        "plt.plot(history.history['accuracy'], label='Training')\n",
        "plt.plot(history.history['val_accuracy'], label='Validation')\n",
        "plt.ylabel('Accuracy')\n",
        "plt.xlabel('Epoch')\n",
        "plt.legend(loc='best')\n",
        "plt.show()"
      ],
      "metadata": {
        "colab": {
          "base_uri": "https://localhost:8080/",
          "height": 295
        },
        "id": "N_8iuwS0UT2G",
        "outputId": "3ff23194-c4aa-43ed-c058-bce14373926b"
      },
      "execution_count": null,
      "outputs": [
        {
          "output_type": "display_data",
          "data": {
            "text/plain": [
              "<Figure size 432x288 with 1 Axes>"
            ],
            "image/png": "[encoded data removed]"
          },
          "metadata": {
            "needs_background": "light"
          }
        }
      ]
    }
  ]
}